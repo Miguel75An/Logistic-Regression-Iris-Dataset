{
 "cells": [
  {
   "cell_type": "code",
   "execution_count": 1,
   "metadata": {
    "collapsed": true
   },
   "outputs": [],
   "source": [
    "import numpy as np\n",
    "import pandas as pd\n",
    "import matplotlib.pyplot as plt \n",
    "from matplotlib.colors import ListedColormap\n",
    "from sklearn.linear_model import LogisticRegression"
   ]
  },
  {
   "cell_type": "code",
   "execution_count": 2,
   "metadata": {},
   "outputs": [
    {
     "data": {
      "text/html": [
       "<div>\n",
       "<style>\n",
       "    .dataframe thead tr:only-child th {\n",
       "        text-align: right;\n",
       "    }\n",
       "\n",
       "    .dataframe thead th {\n",
       "        text-align: left;\n",
       "    }\n",
       "\n",
       "    .dataframe tbody tr th {\n",
       "        vertical-align: top;\n",
       "    }\n",
       "</style>\n",
       "<table border=\"1\" class=\"dataframe\">\n",
       "  <thead>\n",
       "    <tr style=\"text-align: right;\">\n",
       "      <th></th>\n",
       "      <th>Sepal Length [0]</th>\n",
       "      <th>Sepal Width [1]</th>\n",
       "      <th>Petal Length [2]</th>\n",
       "      <th>Petal Width [3]</th>\n",
       "      <th>Class</th>\n",
       "    </tr>\n",
       "  </thead>\n",
       "  <tbody>\n",
       "    <tr>\n",
       "      <th>0</th>\n",
       "      <td>5.1</td>\n",
       "      <td>3.5</td>\n",
       "      <td>1.4</td>\n",
       "      <td>0.2</td>\n",
       "      <td>Iris-setosa</td>\n",
       "    </tr>\n",
       "    <tr>\n",
       "      <th>1</th>\n",
       "      <td>4.9</td>\n",
       "      <td>3.0</td>\n",
       "      <td>1.4</td>\n",
       "      <td>0.2</td>\n",
       "      <td>Iris-setosa</td>\n",
       "    </tr>\n",
       "    <tr>\n",
       "      <th>2</th>\n",
       "      <td>4.7</td>\n",
       "      <td>3.2</td>\n",
       "      <td>1.3</td>\n",
       "      <td>0.2</td>\n",
       "      <td>Iris-setosa</td>\n",
       "    </tr>\n",
       "    <tr>\n",
       "      <th>3</th>\n",
       "      <td>4.6</td>\n",
       "      <td>3.1</td>\n",
       "      <td>1.5</td>\n",
       "      <td>0.2</td>\n",
       "      <td>Iris-setosa</td>\n",
       "    </tr>\n",
       "    <tr>\n",
       "      <th>4</th>\n",
       "      <td>5.0</td>\n",
       "      <td>3.6</td>\n",
       "      <td>1.4</td>\n",
       "      <td>0.2</td>\n",
       "      <td>Iris-setosa</td>\n",
       "    </tr>\n",
       "  </tbody>\n",
       "</table>\n",
       "</div>"
      ],
      "text/plain": [
       "   Sepal Length [0]  Sepal Width [1]  Petal Length [2]  Petal Width [3]  \\\n",
       "0               5.1              3.5               1.4              0.2   \n",
       "1               4.9              3.0               1.4              0.2   \n",
       "2               4.7              3.2               1.3              0.2   \n",
       "3               4.6              3.1               1.5              0.2   \n",
       "4               5.0              3.6               1.4              0.2   \n",
       "\n",
       "         Class  \n",
       "0  Iris-setosa  \n",
       "1  Iris-setosa  \n",
       "2  Iris-setosa  \n",
       "3  Iris-setosa  \n",
       "4  Iris-setosa  "
      ]
     },
     "execution_count": 2,
     "metadata": {},
     "output_type": "execute_result"
    }
   ],
   "source": [
    "#Obtain Iris Dataset and save it to a Pandas Frame\n",
    "iris = pd.read_csv('https://archive.ics.uci.edu/ml/machine-learning-databases/iris/iris.data', header = None)\n",
    "#Rename columns\n",
    "new_columns = ['Sepal Length [0]', 'Sepal Width [1]', 'Petal Length [2]', 'Petal Width [3]','Class']\n",
    "iris.columns = new_columns\n",
    "iris.head()"
   ]
  },
  {
   "cell_type": "code",
   "execution_count": 3,
   "metadata": {
    "collapsed": true
   },
   "outputs": [],
   "source": [
    "#We use all 3 flower clases (SVV means Setosa & Versicolor & Virginica)\n",
    "SVV = iris.iloc[:,:].values\n",
    "\n",
    "#Standardize the features\n",
    "for i in range(0,4):\n",
    "    SVV[:,i] = (SVV[:,i] - SVV[:,i].mean()) / SVV[:,i].std()      \n",
    "\n",
    "#Get class vector\n",
    "Y = SVV[:,4]\n",
    "for i in range(0,len(Y)):\n",
    "    if Y[i] == 'Iris-setosa':\n",
    "        Y[i] = 0\n",
    "    elif Y[i] == 'Iris-versicolor':\n",
    "         Y[i] = 1\n",
    "    else:\n",
    "         Y[i] = 2\n",
    "#Convert Y to list\n",
    "Y = Y.tolist()"
   ]
  },
  {
   "cell_type": "code",
   "execution_count": 4,
   "metadata": {
    "collapsed": true
   },
   "outputs": [],
   "source": [
    "#Training and testing data for class\n",
    "Y_train = np.concatenate((Y[0:35],Y[50:85]))\n",
    "Y_train = np.concatenate((Y_train, Y[100:135]))\n",
    "Y_test = np.concatenate((Y[35:50],Y[85:100]))\n",
    "Y_test = np.concatenate((Y_test,Y[135:150]))"
   ]
  },
  {
   "cell_type": "code",
   "execution_count": 5,
   "metadata": {
    "collapsed": true
   },
   "outputs": [],
   "source": [
    "#TRAINING DATA & TESTING DATA \n",
    "\n",
    "#We obtain the matrices with two features, total of 6 pairs\n",
    "\n",
    "#Helping lists to obtain unique pairs\n",
    "num = ['SepLen0','SepWid1','PetLen2','PenWidth3']\n",
    "res = []\n",
    "\n",
    "pairs_train = [] #Save unique pairs of features for training\n",
    "pairs_test  = [] #\"  \" testing\n",
    "\n",
    "for i in range(0,len(num)-1):\n",
    "    for j in range(0,len(num)):\n",
    "        tup = (num[i],num[j]) \n",
    "        inv = (num[j],num[i])\n",
    "        value = (tup in  res) or (inv in res) or (i == j) #Check existence of pair\n",
    "        if not value:\n",
    "            res.append((num[i],num[j])) #Add pair to helper list\n",
    "            \n",
    "            joint_train = np.concatenate((SVV[0:35,(i,j)], SVV[50:85,(i,j)]))\n",
    "            joint_train = np.concatenate((joint_train, SVV[100:135,(i,j)]))\n",
    "            \n",
    "            joint_test = np.concatenate((SVV[35:50,(i,j)], SVV[85:100,(i,j)]))\n",
    "            joint_test = np.concatenate((joint_test, SVV[135:150,(i,j)]))\n",
    "            \n",
    "            pairs_train.append(joint_train)  #Add new pair of features\n",
    "            pairs_test.append(joint_test)"
   ]
  },
  {
   "cell_type": "code",
   "execution_count": 12,
   "metadata": {},
   "outputs": [
    {
     "data": {
      "text/plain": [
       "array([0.310997534138703, -1.0505694616995227], dtype=object)"
      ]
     },
     "execution_count": 12,
     "metadata": {},
     "output_type": "execute_result"
    }
   ],
   "source": [
    "pairs_train[0][104]"
   ]
  },
  {
   "cell_type": "code",
   "execution_count": 21,
   "metadata": {},
   "outputs": [
    {
     "data": {
      "text/plain": [
       "array([2.249683461237124, -0.12495760117131036, 1.3314156827350272,\n",
       "       1.4479556431467007, 2], dtype=object)"
      ]
     },
     "execution_count": 21,
     "metadata": {},
     "output_type": "execute_result"
    }
   ],
   "source": [
    "SVV[135]"
   ]
  },
  {
   "cell_type": "code",
   "execution_count": 20,
   "metadata": {},
   "outputs": [
    {
     "data": {
      "text/plain": [
       "array([2.249683461237124, -0.12495760117131036], dtype=object)"
      ]
     },
     "execution_count": 20,
     "metadata": {},
     "output_type": "execute_result"
    }
   ],
   "source": [
    "pairs_test[0][30]"
   ]
  },
  {
   "cell_type": "code",
   "execution_count": 23,
   "metadata": {},
   "outputs": [
    {
     "name": "stdout",
     "output_type": "stream",
     "text": [
      "[0 0 0 0 0 0 1 0 0 0 0 0 0 0 0 2 2 1 1 1 1 2 1 1 1 1 1 2 1 1 2 2 2 1 2 2 2\n",
      " 1 2 2 2 1 2 2 1]\n",
      "9\n",
      "0.8\n",
      "----\n"
     ]
    }
   ],
   "source": [
    "model = LogisticRegression(C=1000.0, random_state=0)\n",
    "model.fit(pairs_train[0],Y_train) #model trained\n",
    "    \n",
    "#Predict test data class values\n",
    "Y_prediction = model.predict(pairs_test[0])\n",
    "print(Y_prediction)\n",
    "#Obtain misclassifications made by the model\n",
    "misclassfied = (Y_test != Y_prediction).sum()\n",
    "print(misclassfied)\n",
    "#Missclassification error and accuracy\n",
    "error = misclassfied/len(Y_test)\n",
    "accuracy = 1 - error\n",
    "print(accuracy)\n",
    "print('----')\n",
    "           "
   ]
  },
  {
   "cell_type": "code",
   "execution_count": null,
   "metadata": {
    "collapsed": true
   },
   "outputs": [],
   "source": []
  }
 ],
 "metadata": {
  "kernelspec": {
   "display_name": "Python 3",
   "language": "python",
   "name": "python3"
  },
  "language_info": {
   "codemirror_mode": {
    "name": "ipython",
    "version": 3
   },
   "file_extension": ".py",
   "mimetype": "text/x-python",
   "name": "python",
   "nbconvert_exporter": "python",
   "pygments_lexer": "ipython3",
   "version": "3.6.1"
  }
 },
 "nbformat": 4,
 "nbformat_minor": 2
}
